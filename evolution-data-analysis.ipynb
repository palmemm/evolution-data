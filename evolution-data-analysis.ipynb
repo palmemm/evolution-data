{
 "cells": [
  {
   "cell_type": "markdown",
   "id": "3874c8dc-6ea4-402a-bd7b-bb4a282a04df",
   "metadata": {},
   "source": [
    "# In this project, data about human evolution will be analyzed to understand how various environmental factors shaped hominid evolution"
   ]
  },
  {
   "cell_type": "markdown",
   "id": "fb394992-2692-440a-ac45-5f8786e7c948",
   "metadata": {},
   "source": [
    "### Data from this project was downloaded from Kaggle: https://www.kaggle.com/datasets/santiago123678/biological-data-of-human-ancestors-data-sets?select=Homininos_DataSet+%281%29.csv"
   ]
  },
  {
   "cell_type": "markdown",
   "id": "b33141df-ded0-492d-9d00-e4f24ada14f4",
   "metadata": {},
   "source": [
    "## Import data into a pandas dataframe:"
   ]
  },
  {
   "cell_type": "code",
   "execution_count": 5,
   "id": "e5a4f97a-87a1-4364-9f38-9d02ca13ae01",
   "metadata": {},
   "outputs": [
    {
     "name": "stdout",
     "output_type": "stream",
     "text": [
      "                       Genus_&_Specie        Time Location            Zone  \\\n",
      "0          Australopithecus Anamensis   4.2- 3.9    Africa        oriental   \n",
      "1  hominino Sahelanthropus tchadensis           7   Africa         central   \n",
      "2          Australopithecus Afarensis  3.9 - 2.9    Africa        oriental   \n",
      "3  hominino Sahelanthropus tchadensis           7   Africa         central   \n",
      "4                Homo Heidelbergensis     500-250   Europa  central-europe   \n",
      "5                 Paranthropus Boisei    2.3-1.2    Africa        oriental   \n",
      "6                        Homo Erectus    1.3-1.1     Asia      easter-Asia   \n",
      "7                         Homo Naledi     300-225   Africa           south   \n",
      "8                      Homo Georgicus         1.8    Asia         euroAsia   \n",
      "9             Australopithecus Sediba         1.9   Africa           south   \n",
      "\n",
      "    Current_Country         Habitat  Cranial_Capacity  Height  Incisor_Size  \\\n",
      "0             Kenya  forest-gallery            281.19  132.33           big   \n",
      "1  Republic of Chad           mixed             94.12   87.49         small   \n",
      "2             Kenya           mixed            311.48  120.44           big   \n",
      "3  Republic of Chad           mixed            196.00   88.40         small   \n",
      "4           Germany     cold forest           1232.46  167.60         small   \n",
      "5          Ethiopia          forest            440.12  108.51      megadony   \n",
      "6         Indonesia        savannah           1074.97  162.53    very small   \n",
      "7      South Africa          jungle            362.97  138.79           big   \n",
      "8           Georgia        savannah            660.31  155.74  medium large   \n",
      "9      South Africa           mixed            388.10  102.91         small   \n",
      "\n",
      "  Jaw_Shape  ...            biped        Arms     Foots         Diet  \\\n",
      "0   U shape  ...              yes    climbing  climbing   dry fruits   \n",
      "1   conical  ...  low probability    climbing  climbing   dry fruits   \n",
      "2   U shape  ...              yes    climbing      walk   dry fruits   \n",
      "3   conical  ...  low probability    climbing  climbing   dry fruits   \n",
      "4    modern  ...           modern  manipulate      walk  carnivorous   \n",
      "5   V shape  ...              yes    climbing  climbing  hard fruits   \n",
      "6    modern  ...           modern  manipulate      walk     omnivore   \n",
      "7   U shape  ...           modern    climbing      walk     omnivore   \n",
      "8   U shape  ...           modern  manipulate      walk     omnivore   \n",
      "9   U shape  ...              yes    climbing      walk  soft fruits   \n",
      "\n",
      "  Sexual_Dimorphism          Hip Vertical_Front      Anatomy Migrated Skeleton  \n",
      "0              high         wide             no        mixed       no    light  \n",
      "1              high         wide             no          old       no    light  \n",
      "2              high         slim             no          old       no  refined  \n",
      "3              high         wide             no          old       no    light  \n",
      "4       medium-high  very modern         modern  very modern       no   robust  \n",
      "5              high         wide             no          old       no   robust  \n",
      "6       medium-high       modern         modern       modern      yes   robust  \n",
      "7       medium-high         wide             no        mixed       no    light  \n",
      "8       medium-high       modern         modern       modern      yes   robust  \n",
      "9              high         slim             no          old       no    light  \n",
      "\n",
      "[10 rows x 28 columns]\n"
     ]
    }
   ],
   "source": [
    "import pandas as pd\n",
    "\n",
    "ev_data = pd.read_csv('Homininos_DataSet (1).csv')\n",
    "print(ev_data.head(10))"
   ]
  },
  {
   "cell_type": "markdown",
   "id": "6a327e96-5409-4d05-91a6-dafddd11610d",
   "metadata": {},
   "source": [
    "# Clean up a little bit:"
   ]
  },
  {
   "cell_type": "code",
   "execution_count": 6,
   "id": "2a9611d6-3a7c-4c08-9f23-dcce6f4a428f",
   "metadata": {},
   "outputs": [
    {
     "name": "stdout",
     "output_type": "stream",
     "text": [
      "                       Genus_&_Specie        Time Location            Zone  \\\n",
      "0          Australopithecus Anamensis   4.2- 3.9    Africa        oriental   \n",
      "1  hominino Sahelanthropus tchadensis           7   Africa         central   \n",
      "2          Australopithecus Afarensis  3.9 - 2.9    Africa        oriental   \n",
      "3  hominino Sahelanthropus tchadensis           7   Africa         central   \n",
      "4                Homo Heidelbergensis     500-250   Europa  central-europe   \n",
      "5                 Paranthropus Boisei    2.3-1.2    Africa        oriental   \n",
      "6                        Homo Erectus    1.3-1.1     Asia      easter-Asia   \n",
      "7                         Homo Naledi     300-225   Africa           south   \n",
      "8                      Homo Georgicus         1.8    Asia         euroAsia   \n",
      "9             Australopithecus Sediba         1.9   Africa           south   \n",
      "\n",
      "    Current_Country         Habitat  Cranial_Capacity  Height  Incisor_Size  \\\n",
      "0             Kenya  forest-gallery            281.19  132.33           big   \n",
      "1  Republic of Chad           mixed             94.12   87.49         small   \n",
      "2             Kenya           mixed            311.48  120.44           big   \n",
      "3  Republic of Chad           mixed            196.00   88.40         small   \n",
      "4           Germany     cold forest           1232.46  167.60         small   \n",
      "5          Ethiopia          forest            440.12  108.51      megadony   \n",
      "6         Indonesia        savannah           1074.97  162.53    very small   \n",
      "7      South Africa          jungle            362.97  138.79           big   \n",
      "8           Georgia        savannah            660.31  155.74  medium large   \n",
      "9      South Africa           mixed            388.10  102.91         small   \n",
      "\n",
      "  Jaw_Shape Canine Size Tecno Tecno_type         Diet Migrated  \n",
      "0   U shape         big    no         no   dry fruits       no  \n",
      "1   conical       small    no         no   dry fruits       no  \n",
      "2   U shape         big    no         no   dry fruits       no  \n",
      "3   conical       small    no         no   dry fruits       no  \n",
      "4    modern       small   yes     mode 2  carnivorous       no  \n",
      "5   V shape         big    no         no  hard fruits       no  \n",
      "6    modern       small   yes     mode 1     omnivore      yes  \n",
      "7   U shape       small    no         no     omnivore       no  \n",
      "8   U shape       small   yes     mode 1     omnivore      yes  \n",
      "9   U shape       small    no         no  soft fruits       no  \n"
     ]
    }
   ],
   "source": [
    "ev_data = ev_data.drop(columns=['Torus_Supraorbital', 'Canines_Shape', 'Tooth_Enamel', 'Prognathism', 'biped', 'Arms', 'Foots', 'Sexual_Dimorphism', 'Hip', 'Vertical_Front', 'Anatomy', 'Skeleton','Foramen_Mágnum_Position'])\n",
    "print(ev_data.head(10))"
   ]
  },
  {
   "cell_type": "code",
   "execution_count": null,
   "id": "996824a1-f165-4b20-ab9e-60593d378368",
   "metadata": {},
   "outputs": [],
   "source": []
  }
 ],
 "metadata": {
  "kernelspec": {
   "display_name": "Python 3 (ipykernel)",
   "language": "python",
   "name": "python3"
  },
  "language_info": {
   "codemirror_mode": {
    "name": "ipython",
    "version": 3
   },
   "file_extension": ".py",
   "mimetype": "text/x-python",
   "name": "python",
   "nbconvert_exporter": "python",
   "pygments_lexer": "ipython3",
   "version": "3.11.7"
  }
 },
 "nbformat": 4,
 "nbformat_minor": 5
}
